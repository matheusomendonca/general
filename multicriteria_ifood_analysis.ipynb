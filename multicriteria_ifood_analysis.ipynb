{
  "nbformat": 4,
  "nbformat_minor": 0,
  "metadata": {
    "colab": {
      "name": "multicriteria_ifood_analysis.ipynb",
      "provenance": [],
      "collapsed_sections": [],
      "authorship_tag": "ABX9TyP74kmgDfcyWBgS71P8tKw9",
      "include_colab_link": true
    },
    "kernelspec": {
      "name": "python3",
      "display_name": "Python 3"
    }
  },
  "cells": [
    {
      "cell_type": "markdown",
      "metadata": {
        "id": "view-in-github",
        "colab_type": "text"
      },
      "source": [
        "<a href=\"https://colab.research.google.com/github/matheusomendonca/general/blob/main/multicriteria_ifood_analysis.ipynb\" target=\"_parent\"><img src=\"https://colab.research.google.com/assets/colab-badge.svg\" alt=\"Open In Colab\"/></a>"
      ]
    },
    {
      "cell_type": "code",
      "metadata": {
        "id": "-_T6RzORaJdZ"
      },
      "source": [
        "# libraries\n",
        "import numpy as np\n",
        "import requests\n",
        "import pandas as pd\n",
        "import matplotlib.pyplot as plt\n",
        "import urllib.parse"
      ],
      "execution_count": 27,
      "outputs": []
    },
    {
      "cell_type": "code",
      "metadata": {
        "id": "n-3TztHtzqFu"
      },
      "source": [
        "# find latitude and longitude from address\n",
        "address = 'Avenida Fleming, Belo Horizonte'\n",
        "url = 'https://nominatim.openstreetmap.org/search/' + urllib.parse.quote(address) +'?format=json'\n",
        "location_response = requests.get(url).json()\n",
        "lat, lon = location_response[0][\"lat\"], location_response[0][\"lon\"]"
      ],
      "execution_count": 28,
      "outputs": []
    },
    {
      "cell_type": "code",
      "metadata": {
        "id": "Rwvp0gelbSaN"
      },
      "source": [
        "# ifood request\n",
        "search_term = \"pizza\"\n",
        "url = f\"https://marketplace.ifood.com.br/v2/search?latitude={lat}&longitude={lon}&channel=IFOOD&page=0&size=100&term={search_term}\"\n",
        "ifood_response = requests.get(url).json()"
      ],
      "execution_count": 29,
      "outputs": []
    },
    {
      "cell_type": "code",
      "metadata": {
        "id": "fVuG9tL9baYp"
      },
      "source": [
        "# collect price and rating info\n",
        "data = {\"merchant_name\": [],\n",
        "        \"item_name\": [],\n",
        "        \"price\": [],\n",
        "        \"rating\": []}\n",
        "\n",
        "rating_list = []\n",
        "\n",
        "items = ifood_response['items']['data']\n",
        "for item in items:\n",
        "\n",
        "  # item name\n",
        "  data[\"item_name\"].append(item['name'])\n",
        "\n",
        "  # collected prices\n",
        "  minimum_price = item.get('minimumPrice', 0)\n",
        "  original_price = item.get('originalPrice', 1000)\n",
        "  price = item.get('price', 1000)\n",
        "\n",
        "  # adjusted price\n",
        "  adjusted_price = max(minimum_price, min(original_price, price))\n",
        "\n",
        "  # delivery fee\n",
        "  delivery_fee = item[\"merchant\"][\"deliveryFee\"]['value']\n",
        "\n",
        "  # total price\n",
        "  total_price = adjusted_price + delivery_fee\n",
        "  data[\"price\"].append(total_price)\n",
        "  \n",
        "  # merchant rating\n",
        "  merchant_rating = item[\"merchant\"][\"userRating\"]\n",
        "  data[\"rating\"].append(merchant_rating)\n",
        "\n",
        "  # merchant name\n",
        "  merchant_name = item[\"merchant\"][\"name\"]\n",
        "  data[\"merchant_name\"].append(merchant_name)"
      ],
      "execution_count": 30,
      "outputs": []
    },
    {
      "cell_type": "code",
      "metadata": {
        "id": "gHckp4cabtY5",
        "colab": {
          "base_uri": "https://localhost:8080/",
          "height": 347
        },
        "outputId": "fa21d2c2-d0c7-43d9-e20b-b35f133f54a5"
      },
      "source": [
        "# convert to DataFrame\n",
        "data = pd.DataFrame(data)\n",
        "data.head(10)"
      ],
      "execution_count": 31,
      "outputs": [
        {
          "output_type": "execute_result",
          "data": {
            "text/html": [
              "<div>\n",
              "<style scoped>\n",
              "    .dataframe tbody tr th:only-of-type {\n",
              "        vertical-align: middle;\n",
              "    }\n",
              "\n",
              "    .dataframe tbody tr th {\n",
              "        vertical-align: top;\n",
              "    }\n",
              "\n",
              "    .dataframe thead th {\n",
              "        text-align: right;\n",
              "    }\n",
              "</style>\n",
              "<table border=\"1\" class=\"dataframe\">\n",
              "  <thead>\n",
              "    <tr style=\"text-align: right;\">\n",
              "      <th></th>\n",
              "      <th>merchant_name</th>\n",
              "      <th>item_name</th>\n",
              "      <th>price</th>\n",
              "      <th>rating</th>\n",
              "    </tr>\n",
              "  </thead>\n",
              "  <tbody>\n",
              "    <tr>\n",
              "      <th>0</th>\n",
              "      <td>Zerlotini's Pizza</td>\n",
              "      <td>Pizza doce brotinho+pizza salgada grande+Coca ...</td>\n",
              "      <td>69.90</td>\n",
              "      <td>4.55660</td>\n",
              "    </tr>\n",
              "    <tr>\n",
              "      <th>1</th>\n",
              "      <td>Pizzaria Varanda (castelo)</td>\n",
              "      <td>Pizza gg+pizza broto prestigio.</td>\n",
              "      <td>89.90</td>\n",
              "      <td>3.62745</td>\n",
              "    </tr>\n",
              "    <tr>\n",
              "      <th>2</th>\n",
              "      <td>Varanda Burgueria Castelo</td>\n",
              "      <td>Pizza gg+pizza broto prestigio</td>\n",
              "      <td>96.90</td>\n",
              "      <td>3.00000</td>\n",
              "    </tr>\n",
              "    <tr>\n",
              "      <th>3</th>\n",
              "      <td>Pizza Sur Liberdade</td>\n",
              "      <td>1 pizza 30 cm Marguerita  + 1 Pizza 30 cm milh...</td>\n",
              "      <td>95.38</td>\n",
              "      <td>4.23901</td>\n",
              "    </tr>\n",
              "    <tr>\n",
              "      <th>4</th>\n",
              "      <td>Oh!kipizza</td>\n",
              "      <td>Pizza gigante + pizza doce + refrigerante</td>\n",
              "      <td>83.89</td>\n",
              "      <td>4.61376</td>\n",
              "    </tr>\n",
              "    <tr>\n",
              "      <th>5</th>\n",
              "      <td>Oh!kipizza</td>\n",
              "      <td>Pizza gigante + pizza média+coca 2 litros</td>\n",
              "      <td>86.89</td>\n",
              "      <td>4.61376</td>\n",
              "    </tr>\n",
              "    <tr>\n",
              "      <th>6</th>\n",
              "      <td>Pizza Sur Liberdade</td>\n",
              "      <td>Pizza 30 cm Portuguesa + 1 Pizza de brigadeiro...</td>\n",
              "      <td>97.16</td>\n",
              "      <td>4.23901</td>\n",
              "    </tr>\n",
              "    <tr>\n",
              "      <th>7</th>\n",
              "      <td>Telepizza e Sanduiche do Grilo</td>\n",
              "      <td>pizza 4 sabores na mesma pizza, (A MODA, PRESU...</td>\n",
              "      <td>41.99</td>\n",
              "      <td>4.33333</td>\n",
              "    </tr>\n",
              "    <tr>\n",
              "      <th>8</th>\n",
              "      <td>Massa Bar &amp; Pizzaria</td>\n",
              "      <td>Combo Pizza Gg Frango + Pizza Gg Calabresa + 2...</td>\n",
              "      <td>126.85</td>\n",
              "      <td>4.90000</td>\n",
              "    </tr>\n",
              "    <tr>\n",
              "      <th>9</th>\n",
              "      <td>Pizza Anapolis</td>\n",
              "      <td>Pizza Gigante Gourmet +Pizza Doce Individual +...</td>\n",
              "      <td>145.90</td>\n",
              "      <td>4.72311</td>\n",
              "    </tr>\n",
              "  </tbody>\n",
              "</table>\n",
              "</div>"
            ],
            "text/plain": [
              "                    merchant_name  ...   rating\n",
              "0               Zerlotini's Pizza  ...  4.55660\n",
              "1      Pizzaria Varanda (castelo)  ...  3.62745\n",
              "2       Varanda Burgueria Castelo  ...  3.00000\n",
              "3             Pizza Sur Liberdade  ...  4.23901\n",
              "4                      Oh!kipizza  ...  4.61376\n",
              "5                      Oh!kipizza  ...  4.61376\n",
              "6             Pizza Sur Liberdade  ...  4.23901\n",
              "7  Telepizza e Sanduiche do Grilo  ...  4.33333\n",
              "8            Massa Bar & Pizzaria  ...  4.90000\n",
              "9                  Pizza Anapolis  ...  4.72311\n",
              "\n",
              "[10 rows x 4 columns]"
            ]
          },
          "metadata": {
            "tags": []
          },
          "execution_count": 31
        }
      ]
    },
    {
      "cell_type": "code",
      "metadata": {
        "id": "tgzuN2Kak8op"
      },
      "source": [
        "# filter extreme ratings, keeping values in the range .01 < rating < 4.99\n",
        "rating_filter = (data['rating'] > 0.01) & (data['rating'] < 4.99)\n",
        "filtered_data = data[rating_filter]"
      ],
      "execution_count": 32,
      "outputs": []
    },
    {
      "cell_type": "code",
      "metadata": {
        "colab": {
          "base_uri": "https://localhost:8080/",
          "height": 387
        },
        "id": "p4F1lr34lwGC",
        "outputId": "3166a4f5-e293-4dd6-e8b9-0ea736c108a5"
      },
      "source": [
        "# price vs rating plot\n",
        "filtered_data.plot(x='rating',\n",
        "                   y='price',\n",
        "                   kind='scatter',\n",
        "                   label='items',\n",
        "                   figsize=(7, 6));"
      ],
      "execution_count": 33,
      "outputs": [
        {
          "output_type": "display_data",
          "data": {
            "image/png": "[encoded data removed]",
            "text/plain": [
              "<Figure size 504x432 with 1 Axes>"
            ]
          },
          "metadata": {
            "tags": [],
            "needs_background": "light"
          }
        }
      ]
    },
    {
      "cell_type": "code",
      "metadata": {
        "id": "Oulpyix6mBom"
      },
      "source": [
        "def pareto_set(fx):\n",
        "  \"\"\"Identification of a Pareto subset.\n",
        "\n",
        "      Args:\n",
        "          fx: (n x m)-array of n functions and m points.\n",
        "\n",
        "      Output:\n",
        "          ip: (m)-list of booleans indicating whether i in [0,m-1] is non-dominated.\n",
        "  \"\"\"\n",
        "\n",
        "  # number of points\n",
        "  m = fx.shape[1]\n",
        "\n",
        "  # Pareto comparison\n",
        "  ip = [True] * m\n",
        "  for i in range(m):\n",
        "      fxm = np.tile(fx[:, i].reshape(-1, 1), (1, m))\n",
        "      if np.any(np.all(fxm >= fx, 0) & np.any(fxm != fx, 0)):\n",
        "          ip[i] = False  # is non-dominated\n",
        "\n",
        "  return ip"
      ],
      "execution_count": 34,
      "outputs": []
    },
    {
      "cell_type": "code",
      "metadata": {
        "id": "9AH_aM4Lph0T"
      },
      "source": [
        "# objectives\n",
        "fx = filtered_data[['rating', 'price']].values.T\n",
        "\n",
        "# we want minimum price and maximum rating, since pareto_set deals with\n",
        "# minimization problem, rating must be multiplied by -1\n",
        "fx[0, :] = -fx[0, :]"
      ],
      "execution_count": 35,
      "outputs": []
    },
    {
      "cell_type": "code",
      "metadata": {
        "id": "Q7SExFqwqlvh"
      },
      "source": [
        "# find non-dominated points\n",
        "is_nondomitated = pareto_set(fx)"
      ],
      "execution_count": 36,
      "outputs": []
    },
    {
      "cell_type": "code",
      "metadata": {
        "id": "lqoaRqbQqnfQ"
      },
      "source": [
        "# plot non-dominated items\n",
        "nondominated = filtered_data[is_nondomitated]\n",
        "dominated = filtered_data[np.logical_not(is_nondomitated)]"
      ],
      "execution_count": 37,
      "outputs": []
    },
    {
      "cell_type": "code",
      "metadata": {
        "colab": {
          "base_uri": "https://localhost:8080/",
          "height": 387
        },
        "id": "OwHDdh2-rLQo",
        "outputId": "c16d7178-2e8a-4927-94b5-90f6ed17f266"
      },
      "source": [
        "# non-dominated plot\n",
        "_, ax = plt.subplots(figsize=(7, 6))\n",
        "ax.plot(nondominated['rating'],\n",
        "        nondominated['price'],\n",
        "        'ro',\n",
        "        label=\"Non-dominated items\")\n",
        "ax.plot(dominated['rating'],\n",
        "        dominated['price'],\n",
        "        'k.',\n",
        "        label=\"Dominated items\")\n",
        "plt.legend()\n",
        "plt.grid()\n",
        "plt.xlabel('Avaliação do estabelecimento, nota de 1 a 5')\n",
        "plt.ylabel('Preço total (Item + Entrega), R$')\n",
        "plt.show()"
      ],
      "execution_count": 38,
      "outputs": [
        {
          "output_type": "display_data",
          "data": {
            "image/png": "[encoded data removed]",
            "text/plain": [
              "<Figure size 504x432 with 1 Axes>"
            ]
          },
          "metadata": {
            "tags": [],
            "needs_background": "light"
          }
        }
      ]
    },
    {
      "cell_type": "code",
      "metadata": {
        "colab": {
          "base_uri": "https://localhost:8080/",
          "height": 317
        },
        "id": "qEBqnUpXr2EL",
        "outputId": "31f16ad6-0839-411f-adc0-a401a2e3f306"
      },
      "source": [
        "# non-dominated items\n",
        "nondominated"
      ],
      "execution_count": 39,
      "outputs": [
        {
          "output_type": "execute_result",
          "data": {
            "text/html": [
              "<div>\n",
              "<style scoped>\n",
              "    .dataframe tbody tr th:only-of-type {\n",
              "        vertical-align: middle;\n",
              "    }\n",
              "\n",
              "    .dataframe tbody tr th {\n",
              "        vertical-align: top;\n",
              "    }\n",
              "\n",
              "    .dataframe thead th {\n",
              "        text-align: right;\n",
              "    }\n",
              "</style>\n",
              "<table border=\"1\" class=\"dataframe\">\n",
              "  <thead>\n",
              "    <tr style=\"text-align: right;\">\n",
              "      <th></th>\n",
              "      <th>merchant_name</th>\n",
              "      <th>item_name</th>\n",
              "      <th>price</th>\n",
              "      <th>rating</th>\n",
              "    </tr>\n",
              "  </thead>\n",
              "  <tbody>\n",
              "    <tr>\n",
              "      <th>17</th>\n",
              "      <td>Californiana Pizzas e Massas</td>\n",
              "      <td>Pizza PIZZA 25CM  2 SABORES (4 PEDAÇOS)</td>\n",
              "      <td>51.49</td>\n",
              "      <td>4.76106</td>\n",
              "    </tr>\n",
              "    <tr>\n",
              "      <th>23</th>\n",
              "      <td>Pizza Top Sanduiches</td>\n",
              "      <td>Mega Promoção (4 sabores em 1 pizza) PIZZA GIG...</td>\n",
              "      <td>43.87</td>\n",
              "      <td>4.66667</td>\n",
              "    </tr>\n",
              "    <tr>\n",
              "      <th>31</th>\n",
              "      <td>Pizza Guanabara</td>\n",
              "      <td>Acréscimo de Pizza ACRÉSCIMO DE  PIZZA MÉDIA</td>\n",
              "      <td>11.99</td>\n",
              "      <td>4.56757</td>\n",
              "    </tr>\n",
              "    <tr>\n",
              "      <th>36</th>\n",
              "      <td>Californiana Pizzas e Massas</td>\n",
              "      <td>Pizza PIZZA 25CM  (4 PEDAÇOS)</td>\n",
              "      <td>51.49</td>\n",
              "      <td>4.76106</td>\n",
              "    </tr>\n",
              "    <tr>\n",
              "      <th>38</th>\n",
              "      <td>O Fornês - Pizzaria Bh</td>\n",
              "      <td>1 pizza média + 1 pizza doce média</td>\n",
              "      <td>79.90</td>\n",
              "      <td>4.91667</td>\n",
              "    </tr>\n",
              "    <tr>\n",
              "      <th>46</th>\n",
              "      <td>Açaí Mais Liberdade</td>\n",
              "      <td>01 mini pizza de frango /01 mini pizza presunt...</td>\n",
              "      <td>21.91</td>\n",
              "      <td>4.61818</td>\n",
              "    </tr>\n",
              "    <tr>\n",
              "      <th>74</th>\n",
              "      <td>Roça Bar e Pizzaria</td>\n",
              "      <td>Pizzas PIZZA GRANDE (6 PEDAÇOS)</td>\n",
              "      <td>56.49</td>\n",
              "      <td>4.76316</td>\n",
              "    </tr>\n",
              "    <tr>\n",
              "      <th>83</th>\n",
              "      <td>Roça Bar e Pizzaria</td>\n",
              "      <td>Pizzas PIZZA GRANDE 2 SABORES (6 PEDAÇOS)</td>\n",
              "      <td>56.49</td>\n",
              "      <td>4.76316</td>\n",
              "    </tr>\n",
              "    <tr>\n",
              "      <th>96</th>\n",
              "      <td>Stop Pizza Bh</td>\n",
              "      <td>Pizzas doces.  PIZZA BROTINHO (18CM - 2 FATIAS)</td>\n",
              "      <td>44.89</td>\n",
              "      <td>4.73460</td>\n",
              "    </tr>\n",
              "  </tbody>\n",
              "</table>\n",
              "</div>"
            ],
            "text/plain": [
              "                   merchant_name  ...   rating\n",
              "17  Californiana Pizzas e Massas  ...  4.76106\n",
              "23          Pizza Top Sanduiches  ...  4.66667\n",
              "31               Pizza Guanabara  ...  4.56757\n",
              "36  Californiana Pizzas e Massas  ...  4.76106\n",
              "38        O Fornês - Pizzaria Bh  ...  4.91667\n",
              "46           Açaí Mais Liberdade  ...  4.61818\n",
              "74           Roça Bar e Pizzaria  ...  4.76316\n",
              "83           Roça Bar e Pizzaria  ...  4.76316\n",
              "96                 Stop Pizza Bh  ...  4.73460\n",
              "\n",
              "[9 rows x 4 columns]"
            ]
          },
          "metadata": {
            "tags": []
          },
          "execution_count": 39
        }
      ]
    },
    {
      "cell_type": "code",
      "metadata": {
        "id": "GFx6e4BbTX4j"
      },
      "source": [
        ""
      ],
      "execution_count": 39,
      "outputs": []
    }
  ]
}